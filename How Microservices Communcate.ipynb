{
 "cells": [
  {
   "cell_type": "markdown",
   "metadata": {},
   "source": [
    "How Do Microservices Communicate?\n",
    "\n",
    "https://dzone.com/articles/how-to-make-microservices-communicate\n",
    "\n",
    "Each Microservice sits in a different Repo and is deployed independently. Microservices coordinate by means of \"communication\". The MS's are 'loosely coupled meaning the elements (components) depend on each other to the least extent possible.\n",
    "\n",
    "Loose coupling architecture is designed to reduce the risk that change within one element will create unanticipated changes in another. The extent of coupling in a system can be be measured by mapping the maximum number of element changes that can occur (removing, renaming, reconfiguring elements etc) without adverse effects.\n",
    "\n",
    "This also helps isolate problems and errors, simplifying testing and maintenance.\n",
    "\n",
    "Latency, throughput and scalability are all factors to consider when deciding how MS's communicate.\n",
    "\n",
    "The 2 main methods (designs) of communication are:\n",
    "\n",
    "Brokerless Design:\n",
    "\n",
    "    * Microservices talk to each other directly using traditional HTTP Requests or Websockets (HTTP2) for streaming.\n",
    "    * No intermediary nodes (except routers and load balancers). Services are connected to directly, provided their service and the API used by them are known.\n",
    "    - Pros:\n",
    "        * Low Latency (lowest possible). Any limitations are strictly the result of poor API implementation. Tools like GRPC maximise the performance of the API layer.\n",
    "        * Easy to Implement: Easy to visualize and implement.\n",
    "        * Easy to Debug\n",
    "        * High Throughput - More CPU cycles spent on work rather than routing\n",
    "        \n",
    "     - Cons:\n",
    "     * Service Discovery - The service discovery mechanism needs to be responsive and scalable enough to reflect the latest state of the cluster.\n",
    "     * Idle Connections - Lots of wasted resources since all MS's need to connect to each other at all times.\n",
    "     * Tightly coupled: By nature these MS's are tightly coupled.\n",
    "     \n",
    "\n",
    "The Messaging Bus (Broker) Design\n",
    "\n",
    "    * All communication is routed via a group of brokers. Brokers are server programs running advanced routing algorithms.\n",
    "    * Each MS connecs to a broker and can send and receive messages via the same connection. The service sending the messages is called the publisher and the receiver is called a subscriber. Messages are published to a 'topic'. A subscriber receives those messages for topics it is subscribed to."
   ]
  },
  {
   "cell_type": "markdown",
   "metadata": {},
   "source": [
    "    - Pros:\n",
    "    * Load Balancing - most messaging brokers support load balancing out of the box, making the overall architecture much simpler and scalable.\n",
    "    * Service Delivery - Service deleivery is not required when using a messaging backend. All microservices act as clients. The only service which needs to be discoverable is the message broker.\n",
    "    * Fan In and <>Fan Out: A messaging backend makes it easier to distribute workload and aggregate the results. The best part is that adding worker microservices can be done transparently without having to update the other microservices.\n",
    "    * Stream Based Design: Each topc is essentially a stream of messages. Any subscriber can tap into these streams as a when required.\n",
    "    - Cons:\n",
    "    * Scaling the Brokers: Challenge for highly distributed systems.\n",
    "    * Higher Latency: Number of hops on the bus increases overall latency.\n",
    "    * Rescource Utilization: Brokers will also need CPU, Memory and storage to run."
   ]
  }
 ],
 "metadata": {
  "kernelspec": {
   "display_name": "Python 3",
   "language": "python",
   "name": "python3"
  },
  "language_info": {
   "codemirror_mode": {
    "name": "ipython",
    "version": 3
   },
   "file_extension": ".py",
   "mimetype": "text/x-python",
   "name": "python",
   "nbconvert_exporter": "python",
   "pygments_lexer": "ipython3",
   "version": "3.7.3"
  }
 },
 "nbformat": 4,
 "nbformat_minor": 2
}
