{
 "cells": [
  {
   "cell_type": "markdown",
   "metadata": {},
   "source": [
    "What is a Virtual Environment?\n",
    "\n",
    "A virtual Environment is a tool that helps keep dependencies required by different projects separate.\n",
    "\n",
    "For example:\n",
    "\n",
    "Say you have 2 different Microservices that are using the same packages but one is running v1.9 and the other runs v1.10. Virtual Environments will run the different versions of the same packages simulataneously, since both versions of the package would reside in the same directory on your system and Python would not be able to differentiate. \n",
    "\n",
    "https://www.geeksforgeeks.org/python-virtual-environment/\n",
    "\n",
    "\n",
    "What is Workload Management?\n",
    "\n",
    "The workload is the amount of processing that a computer has been given to do at a given time. It is essentially the sum of all requests made by users and applications of a system.\n",
    "\n",
    "A workload can run in physical virtual or cloud computing environments.\n",
    "\n",
    "Workload management is the determination of the correct distributions in order to gain optimal performance ie. Maximising workload throughput and making sure no single node is overloaded or underutilized. \n",
    "\n",
    "The workload manager of the system fulfills these expectations by controlling access of the workload to system resources such as computing power, memory and CPU thorugh prioritization or other algorithms. The workload manager also distributes workloads equally through exectution units or servers.\n",
    "\n",
    "http://www.eco4cloud.com/what-is-workload-management-in-a-vmware-virtualized-environment\n"
   ]
  },
  {
   "cell_type": "code",
   "execution_count": null,
   "metadata": {},
   "outputs": [],
   "source": []
  }
 ],
 "metadata": {
  "kernelspec": {
   "display_name": "Python 3",
   "language": "python",
   "name": "python3"
  },
  "language_info": {
   "codemirror_mode": {
    "name": "ipython",
    "version": 3
   },
   "file_extension": ".py",
   "mimetype": "text/x-python",
   "name": "python",
   "nbconvert_exporter": "python",
   "pygments_lexer": "ipython3",
   "version": "3.7.3"
  }
 },
 "nbformat": 4,
 "nbformat_minor": 2
}
