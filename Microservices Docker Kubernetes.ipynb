{
 "cells": [
  {
   "cell_type": "markdown",
   "metadata": {},
   "source": [
    "Microservices Docker & Kubernetes"
   ]
  },
  {
   "cell_type": "markdown",
   "metadata": {},
   "source": [
    "What is a Microservice?"
   ]
  },
  {
   "cell_type": "markdown",
   "metadata": {},
   "source": [
    "* Separated business functions\n",
    "* Instead of one large program/application several smaller applications, ie.\n",
    "    - User Auth\n",
    "    - Logging\n",
    "    - User Management\n",
    "* Communicate via HTTP(S)\n",
    "* Require well defined APIs\n"
   ]
  },
  {
   "cell_type": "markdown",
   "metadata": {},
   "source": [
    "Monolithic Architecture\n",
    "\n",
    "UI > Logic > Data Access Layer > Database\n",
    "\n",
    "UI triggers functions in Logic which uses the data access layer to communicate with a single Database.\n",
    "\n",
    "\n",
    "Microservices Architecture\n",
    "\n",
    "UI > Microservice > Microservice > ... > Databases\n",
    "\n",
    "Still has one UI but multiple independent Microservices that all have there own DB or may share DBs."
   ]
  },
  {
   "cell_type": "markdown",
   "metadata": {},
   "source": [
    "Microservices Advantages\n",
    "\n",
    "* Language Independent - becasue they communicate via HTTP, it is essentially irrelevant what languages are used on the backend aslong as they conform to HTTP standards.\n",
    "* Fast Iterations - \n",
    "* Small Teams - Split teams into smaller groups so they can specialize, choose applicable language.\n",
    "* Fault Isolation - Faults and Exceptions can be quickly identified. One MS failiure does not mean the whole system will collapse. If practising RESTful APIs one MS can handle another MS's failiure and respond to user through UI\n",
    "* Pair Well with Containers - Disadvantage of MSs is delivering at scale. Continued integration of a segmented application becomes complicated, requiring a lot of coordination to integrate deploy and in sync. To do this, MS's need to be self-sustained and portable which is achieved by containers. Containers essentially hold services and their required assets in a single package; Offering an isolated workload environment, in a virtualized OS. As containers operate in iso envs, they can be used to deploy MS's regardless of language as communication is done via HTTP. These containers can be 'orchestrated' through 'container orchestration platforms' like Kubernetes and Docker.\n",
    "* SCALABLE! - \n",
    "* Decentralized Data Management - Separate DBs preventing DB breach of the entire system.\n",
    "* "
   ]
  }
 ],
 "metadata": {
  "kernelspec": {
   "display_name": "Python 3",
   "language": "python",
   "name": "python3"
  },
  "language_info": {
   "codemirror_mode": {
    "name": "ipython",
    "version": 3
   },
   "file_extension": ".py",
   "mimetype": "text/x-python",
   "name": "python",
   "nbconvert_exporter": "python",
   "pygments_lexer": "ipython3",
   "version": "3.7.3"
  }
 },
 "nbformat": 4,
 "nbformat_minor": 2
}
