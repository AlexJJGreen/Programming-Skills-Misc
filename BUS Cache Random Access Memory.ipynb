{
 "cells": [
  {
   "cell_type": "markdown",
   "metadata": {},
   "source": [
    "Bus - Set of wires transmitting data.\n",
    "    * Buses are measured in bits (32-bit, 64-bit etc)\n",
    "    * This detirmines how much data can travel across the bus at any one time.\n",
    "    * Buses also have a speed measured in megahertz which equates to how fast the data travels across the bus.\n",
    "    \n",
    "    \n",
    "Cache (Cash!) - Stores recently used information to be quickly accessed at a later interval. There are several different types of caching in order to optimize performance:\n",
    "    * Browser Cache - Most browsers cache webpage data by default to expidate the loading of websites/ apps\n",
    "    * Memory Cache - When an app is rnning it may cache certain data in system memory or RAM.\n",
    "    * Disk Cache - Most HDD and SSDs include a small amount of ram that serves as a disk cache. Typically for a 1tb harddrive, this will be around 32mb.\n",
    "    * Processor Cache - Smaller than disk caches due to the processor cache containing tiny blocks of data eg. frequently used instructions that need to be accesssed quickly by the CPU. Most modern processors contain an L1 cache right next to the processor and an L2 cache that is slightly further away. The L1 cache will be significantly smalle rhan the L2 (64kb compared to 2MB).\n",
    "    \n",
    "    \n",
    "    \n",
    "RAM - Random Access Memory: made of of small memory chips that form a memory module which are then installed in the RAM slots of the motherboard.\n",
    "    * Everytime you open a program, it gets loaded from the harddrive into the RAM. This is because reading data from the ram is much faster than reading it directly from the hard drive. The more RAM a computer has, the more data can be loaded from the harddrive into the RAM, effectively speeding up the computer. Upgrading the RAM can be more beneficial to a computer than upgrading the CPU. "
   ]
  },
  {
   "cell_type": "code",
   "execution_count": null,
   "metadata": {},
   "outputs": [],
   "source": []
  }
 ],
 "metadata": {
  "kernelspec": {
   "display_name": "Python 3",
   "language": "python",
   "name": "python3"
  },
  "language_info": {
   "codemirror_mode": {
    "name": "ipython",
    "version": 3
   },
   "file_extension": ".py",
   "mimetype": "text/x-python",
   "name": "python",
   "nbconvert_exporter": "python",
   "pygments_lexer": "ipython3",
   "version": "3.7.3"
  }
 },
 "nbformat": 4,
 "nbformat_minor": 2
}
