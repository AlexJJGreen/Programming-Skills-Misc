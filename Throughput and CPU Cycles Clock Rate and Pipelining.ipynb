{
 "cells": [
  {
   "cell_type": "markdown",
   "metadata": {},
   "source": [
    "Throughput is a measure of how many units of information a system can process in a given time.\n",
    "\n",
    "Used historically as a measure of effectiveness in large commercial computers running programs concurrently.\n",
    "\n",
    "Trillion floating point operations per second (TeraFLOP) s a unit that provides a metric for comparing raw computing over time.\n",
    "\n",
    "In data transmission network trhoughput is measured in bps Mbps or Gbps.\n",
    "\n",
    "In storage systems throguhput refers to the amount of data that can be received and written to storage or read and returned. It can also be the number of discrete I/O ops per second.\n",
    "\n",
    "\n",
    "A CPU cycle is the time required for one simple processor operation (addition etc). This time is normally the recirocal of the clock rate.\n",
    "\n",
    "The clock speed or clock rate is the rate at which a processor can complete a processing cycle, typically measured in megahertz (1 million cycles per second) or gigahertz (1 billion cycles per second). Due to different syste,s architectures however this doesn't allow for accurate comparison as different arithmetic operations may take different amounts of cycles to complete. Overall performance can also be affected by the bus speed, cache size, speed of RAM and HDD or SSD speed.\n",
    "\n",
    "\n",
    "Pipelining is the continuous movement of instruction to the processor or in the arithmetic steps taken by the processor to perform an instruction.\n",
    "\n",
    "Without a pipeline, a computer processor gets the first nstruction from memory, performs the operation it calls for and then fetches the next instruction. whilst fetching, the arithmetic part of the processor lays idle.\n",
    "\n",
    "With pipelining the computer architechture allows the next instructions to be fetched while the processor is performing arithmetic operations, holding them in a buffer until the operation can be performed"
   ]
  }
 ],
 "metadata": {
  "kernelspec": {
   "display_name": "Python 3",
   "language": "python",
   "name": "python3"
  },
  "language_info": {
   "codemirror_mode": {
    "name": "ipython",
    "version": 3
   },
   "file_extension": ".py",
   "mimetype": "text/x-python",
   "name": "python",
   "nbconvert_exporter": "python",
   "pygments_lexer": "ipython3",
   "version": "3.7.3"
  }
 },
 "nbformat": 4,
 "nbformat_minor": 2
}
