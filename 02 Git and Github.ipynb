{
 "cells": [
  {
   "cell_type": "markdown",
   "metadata": {},
   "source": [
    "\n",
    "SHOUTOUT TO https://github.com/bradtraversy\n",
    "\n",
    "Before reading this you need to have a basic concept of the command line tool. SO go and check notebook 01 for a brief rundown of that\n",
    "\n",
    "This rundown of Git and Github is basically an abbreviated text version of his crashcourse, which I advise you watch to understand the concepts fully.\n",
    "\n",
    "https://www.youtube.com/watch?v=SWYqp7iY_Tc\n",
    "\n",
    "\n",
    "\n",
    "What is Git?\n",
    "\n",
    "* Git is a version control system (VCS) but what does that mean?\n",
    "\n",
    "    When working on large projects or with multiple developers its very difficult to keep track of what is going on with everything. A Version control system allows you to make copies of the project (branches) to work on independently, push these changes to the project, check if these changes are correct, revert back to earlier versions of the code if it is needed and so on. This makes it far easier to coordinate work and see who is doing what.\n",
    "    \n",
    "What is GitHub?\n",
    "\n",
    "* Github is an online Git Repository, aka. its an website version of Git, which makes it easy for everyone to access.\n",
    "\n",
    "What can you do with Github?\n",
    "\n",
    "* Track your code history (when changes where made and by whom)\n",
    "* Use 'commits' to create code history by logging/saving the way the code is at the exact point the commit is made.\n",
    "* Revert to one of these 'commits' at any point (in case you screw up)\n",
    "* Check if changes should be made/ added to the code before it is 'pushed' to the code\n"
   ]
  },
  {
   "cell_type": "markdown",
   "metadata": {},
   "source": [
    "BASIC COMMANDS\n",
    "\n",
    " - LOCAL COMMANDS (does stuff on your computer, not the online repo)\n",
    "\n",
    "git init\n",
    "* initializes a local (on your computer) Git Repository\n",
    "\n",
    "git add *file name*\n",
    "* adds files to the 'staging area' ready to be checked but not yet pushed to the main repository\n",
    "\n",
    "git status\n",
    "* shows the status of the 'working tree'. Basically any differences between the staging area (what you've added) and the index (the local repo)\n",
    "\n",
    "git commit\n",
    "* commits the changes to the index.\n",
    "\n",
    "\n",
    " - REMOTE COMMNANDS\n",
    " \n",
    "git push\n",
    "* pushes the local repo into the remote repository\n",
    "\n",
    "git pull\n",
    "* pulls the changes from the remote repo into the local repository\n",
    "\n",
    "git clone\n",
    "* clones a repository to your local directory\n",
    "\n",
    "\n",
    " - TO INSTALL GIT\n",
    " \n",
    " Windows\n",
    " https://git-scm.com/download/win\n",
    " \n",
    " Mac\n",
    " https://git-scm.com/download/mac\n",
    " \n",
    " * Comes with the 'Git-Bash command line tool"
   ]
  },
  {
   "cell_type": "markdown",
   "metadata": {},
   "source": [
    "USING GIT/ GITHUB\n",
    "\n",
    "Initializing a Repository\n",
    "\n",
    "1) Create a folder for your project\n",
    "2) Open the command line tool\n",
    "3) Navigate to your project folder\n",
    "4) use the command\n",
    "\n",
    "git init\n",
    "\n",
    " - This will initialize a github repo in the folder. Essentially its a bunch of files in a 'hidden' .git folder within the project, that tells the computer 'treat this folder and iits contents as a Git repository (that simple!)\n",
    "\n",
    "5) Now you can use git commands in the folder.\n",
    "6) add your name and email to the config folder (so people know the project is yours!) with the following commands\n",
    "\n",
    "git config --global user.name 'John Smith'\n",
    "git config --global user.email '420_terrible_email_name.aol.com'\n",
    "\n"
   ]
  },
  {
   "cell_type": "code",
   "execution_count": null,
   "metadata": {},
   "outputs": [],
   "source": []
  }
 ],
 "metadata": {
  "kernelspec": {
   "display_name": "Python 3",
   "language": "python",
   "name": "python3"
  },
  "language_info": {
   "codemirror_mode": {
    "name": "ipython",
    "version": 3
   },
   "file_extension": ".py",
   "mimetype": "text/x-python",
   "name": "python",
   "nbconvert_exporter": "python",
   "pygments_lexer": "ipython3",
   "version": "3.7.3"
  }
 },
 "nbformat": 4,
 "nbformat_minor": 2
}
